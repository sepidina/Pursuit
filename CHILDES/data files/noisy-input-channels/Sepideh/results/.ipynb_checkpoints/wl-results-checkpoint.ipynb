{
 "cells": [
  {
   "cell_type": "code",
   "execution_count": 161,
   "metadata": {
    "collapsed": false
   },
   "outputs": [
    {
     "data": {
      "image/png": "[encoded data removed]",
      "text/plain": [
       "<matplotlib.figure.Figure at 0x112278eb8>"
      ]
     },
     "metadata": {},
     "output_type": "display_data"
    }
   ],
   "source": [
    "fig = plt.figure(dpi=100)\n",
    "ax = fig.add_subplot(111)\n",
    "\n",
    "#here's our data to plot, all normal Python lists\n",
    "gamma = [0.01,0.05,0.1,0.15,0.2,0.3,0.4,0.5,0.6]\n",
    "kappa = [0.001,0.005,0.01,0.05,0.1,0.15,0.2,0.3]\n",
    "\n",
    "meanFscore = [[mean_gamma01_kappa001,mean_gamma05_kappa001,mean_gamma1_kappa001,mean_gamma15_kappa001,mean_gamma2_kappa001,mean_gamma3_kappa001,mean_gamma4_kappa001,mean_gamma5_kappa001,mean_gamma6_kappa001],\n",
    "              [mean_gamma01_kappa005,mean_gamma05_kappa005,mean_gamma1_kappa005,mean_gamma15_kappa005,mean_gamma2_kappa005,mean_gamma3_kappa005,mean_gamma4_kappa005,mean_gamma5_kappa005,mean_gamma6_kappa005],\n",
    "              [mean_gamma01_kappa01,mean_gamma05_kappa01,mean_gamma1_kappa01,mean_gamma15_kappa01,mean_gamma2_kappa01,mean_gamma3_kappa01,mean_gamma4_kappa01,mean_gamma5_kappa01,mean_gamma6_kappa01],\n",
    "              [mean_gamma01_kappa05,mean_gamma05_kappa05,mean_gamma1_kappa05,mean_gamma15_kappa05,mean_gamma2_kappa05,mean_gamma3_kappa05,mean_gamma4_kappa05,mean_gamma5_kappa05,mean_gamma6_kappa05],\n",
    "              [mean_gamma01_kappa1,mean_gamma05_kappa1,mean_gamma1_kappa1,mean_gamma15_kappa1,mean_gamma2_kappa1,mean_gamma3_kappa1,mean_gamma4_kappa1,mean_gamma5_kappa1,mean_gamma6_kappa1],\n",
    "              [mean_gamma01_kappa15,mean_gamma05_kappa15,mean_gamma1_kappa15,mean_gamma15_kappa15,mean_gamma2_kappa15,mean_gamma3_kappa15,mean_gamma4_kappa15,mean_gamma5_kappa15,mean_gamma6_kappa15],\n",
    "              [mean_gamma01_kappa2,mean_gamma05_kappa2,mean_gamma1_kappa2,mean_gamma15_kappa2,mean_gamma2_kappa2,mean_gamma3_kappa2,mean_gamma4_kappa2,mean_gamma5_kappa2,mean_gamma6_kappa2],\n",
    "              [mean_gamma01_kappa3,mean_gamma05_kappa3,mean_gamma1_kappa3,mean_gamma15_kappa3,mean_gamma2_kappa3,mean_gamma3_kappa3,mean_gamma4_kappa3,mean_gamma5_kappa3,mean_gamma6_kappa3]\n",
    "             ]\n",
    "\n",
    "\n",
    "#setup the 2D grid with Numpy\n",
    "gamma, kappa = np.meshgrid(gamma, kappa)\n",
    "\n",
    "#convert intensity (list of lists) to a numpy array for plotting\n",
    "meanFscore = np.array(meanFscore)\n",
    "\n",
    "heatmap = ax.pcolor(meanFscore)\n",
    "cbar = plt.colorbar(heatmap)\n",
    "cbar.set_label('mean fscore')\n",
    "\n",
    "\n",
    "ax.set_xlabel(\"gamma\")\n",
    "x_labels = [0.01,0.05,0.1,0.15,0.2,0.3,0.4,0.5,0.6]\n",
    "ax.set(xticks=range(0, 9), xticklabels=list(x_labels))\n",
    "\n",
    "ax.set_ylabel(\"kappa\")\n",
    "y_labels = [0.001,0.005,0.01,0.05,0.1,0.15,0.2,0.3]\n",
    "ax.set_yticklabels(y_labels)\n",
    "\n",
    "\n",
    "\n",
    "fig.savefig('fscore-heatmap-di06me03.png', dpi=100)\n",
    "\n",
    "plt.show() #boom"
   ]
  },
  {
   "cell_type": "code",
   "execution_count": 1,
   "metadata": {
    "collapsed": false
   },
   "outputs": [
    {
     "name": "stdout",
     "output_type": "stream",
     "text": [
      "Populating the interactive namespace from numpy and matplotlib\n"
     ]
    }
   ],
   "source": [
    "%pylab --no-import-all inline"
   ]
  },
  {
   "cell_type": "code",
   "execution_count": 2,
   "metadata": {
    "collapsed": true
   },
   "outputs": [],
   "source": [
    "import matplotlib.pyplot as plt\n",
    "import numpy as np\n",
    "import scipy as sp\n",
    "from scipy import stats\n",
    "import pylab as pl"
   ]
  },
  {
   "cell_type": "code",
   "execution_count": 3,
   "metadata": {
    "collapsed": true
   },
   "outputs": [],
   "source": [
    "def load_data(data_file):\n",
    "    data = []\n",
    "    with open(data_file) as f:\n",
    "        for line in f:\n",
    "            for i, value in enumerate(line.split()):\n",
    "                data.append(float(value))\n",
    "    return np.array(data)"
   ]
  },
  {
   "cell_type": "code",
   "execution_count": 4,
   "metadata": {
    "collapsed": true
   },
   "outputs": [],
   "source": [
    "scores_f_refs = load_data('FscoreResults_refs.txt')\n",
    "scores_p_refs = load_data('precisionResults_refs.txt')\n",
    "scores_r_refs = load_data('recallResults_refs.txt')\n",
    "\n",
    "scores_f_dime = load_data('FscoreResults_dime.txt')\n",
    "scores_p_dime = load_data('precisionResults_dime.txt')\n",
    "scores_r_dime = load_data('recallResults_dime.txt')\n",
    "\n",
    "scores_f_medi = load_data('FscoreResults_medi.txt')\n",
    "scores_p_medi = load_data('precisionResults_medi.txt')\n",
    "scores_r_medi = load_data('recallResults_medi.txt')"
   ]
  },
  {
   "cell_type": "code",
   "execution_count": 19,
   "metadata": {
    "collapsed": false
   },
   "outputs": [
    {
     "data": {
      "text/plain": [
       "array([[ 0.38991697,  0.38469861,  0.38045001,  0.38271809,  0.39199874,\n",
       "         0.39002061,  0.38987329,  0.38715469],\n",
       "       [ 0.38799203,  0.37504463,  0.38728114,  0.38119915,  0.38176137,\n",
       "         0.38659609,  0.3940012 ,  0.38288088],\n",
       "       [ 0.38091866,  0.37686739,  0.38274396,  0.38604758,  0.38729045,\n",
       "         0.38322876,  0.38131927,  0.38926444],\n",
       "       [ 0.39321567,  0.3926514 ,  0.38619072,  0.39612007,  0.37705802,\n",
       "         0.37749803,  0.37886446,  0.38743508],\n",
       "       [ 0.38346293,  0.37915515,  0.38710155,  0.38530427,  0.38176435,\n",
       "         0.38867231,  0.39158948,  0.39033596],\n",
       "       [ 0.38648689,  0.38039038,  0.38474108,  0.38936478,  0.38085903,\n",
       "         0.3845585 ,  0.38464559,  0.39201037],\n",
       "       [ 0.379889  ,  0.39413146,  0.38568863,  0.36967522,  0.37773307,\n",
       "         0.37733643,  0.38240889,  0.3817432 ],\n",
       "       [ 0.38156345,  0.39289718,  0.38309591,  0.37681037,  0.38591929,\n",
       "         0.38154289,  0.38581491,  0.39042932],\n",
       "       [ 0.38571361,  0.38685884,  0.38209924,  0.3789827 ,  0.38819356,\n",
       "         0.38005391,  0.37952198,  0.38226391]])"
      ]
     },
     "execution_count": 19,
     "metadata": {},
     "output_type": "execute_result"
    }
   ],
   "source": [
    "means = np.zeros((9,8))\n",
    "gamma = [0.01, 0.05, 0.1, 0.15, 0.2, 0.3, 0.4, 0.5, 0.6]\n",
    "kappa = [0.001, 0.005, 0.01, 0.05, 0.1, 0.15, 0.2, 0.3]\n",
    "for g in range(len(gamma)):\n",
    "    for k in range(len(kappa)):\n",
    "        means[g][k] = scores[g*len(kappa)+k]\n",
    "        \n",
    "means"
   ]
  },
  {
   "cell_type": "code",
   "execution_count": 20,
   "metadata": {
    "collapsed": false
   },
   "outputs": [
    {
     "data": {
      "text/plain": [
       "(array([[ 0.01,  0.05,  0.1 ,  0.15,  0.2 ,  0.3 ,  0.4 ,  0.5 ,  0.6 ],\n",
       "        [ 0.01,  0.05,  0.1 ,  0.15,  0.2 ,  0.3 ,  0.4 ,  0.5 ,  0.6 ],\n",
       "        [ 0.01,  0.05,  0.1 ,  0.15,  0.2 ,  0.3 ,  0.4 ,  0.5 ,  0.6 ],\n",
       "        [ 0.01,  0.05,  0.1 ,  0.15,  0.2 ,  0.3 ,  0.4 ,  0.5 ,  0.6 ],\n",
       "        [ 0.01,  0.05,  0.1 ,  0.15,  0.2 ,  0.3 ,  0.4 ,  0.5 ,  0.6 ],\n",
       "        [ 0.01,  0.05,  0.1 ,  0.15,  0.2 ,  0.3 ,  0.4 ,  0.5 ,  0.6 ],\n",
       "        [ 0.01,  0.05,  0.1 ,  0.15,  0.2 ,  0.3 ,  0.4 ,  0.5 ,  0.6 ],\n",
       "        [ 0.01,  0.05,  0.1 ,  0.15,  0.2 ,  0.3 ,  0.4 ,  0.5 ,  0.6 ]]),\n",
       " array([[ 0.001,  0.001,  0.001,  0.001,  0.001,  0.001,  0.001,  0.001,\n",
       "          0.001],\n",
       "        [ 0.005,  0.005,  0.005,  0.005,  0.005,  0.005,  0.005,  0.005,\n",
       "          0.005],\n",
       "        [ 0.01 ,  0.01 ,  0.01 ,  0.01 ,  0.01 ,  0.01 ,  0.01 ,  0.01 ,\n",
       "          0.01 ],\n",
       "        [ 0.05 ,  0.05 ,  0.05 ,  0.05 ,  0.05 ,  0.05 ,  0.05 ,  0.05 ,\n",
       "          0.05 ],\n",
       "        [ 0.1  ,  0.1  ,  0.1  ,  0.1  ,  0.1  ,  0.1  ,  0.1  ,  0.1  ,\n",
       "          0.1  ],\n",
       "        [ 0.15 ,  0.15 ,  0.15 ,  0.15 ,  0.15 ,  0.15 ,  0.15 ,  0.15 ,\n",
       "          0.15 ],\n",
       "        [ 0.2  ,  0.2  ,  0.2  ,  0.2  ,  0.2  ,  0.2  ,  0.2  ,  0.2  ,\n",
       "          0.2  ],\n",
       "        [ 0.3  ,  0.3  ,  0.3  ,  0.3  ,  0.3  ,  0.3  ,  0.3  ,  0.3  ,\n",
       "          0.3  ]]))"
      ]
     },
     "execution_count": 20,
     "metadata": {},
     "output_type": "execute_result"
    }
   ],
   "source": [
    "g, k = np.meshgrid(gamma, kappa)\n",
    "g,k"
   ]
  },
  {
   "cell_type": "code",
   "execution_count": 24,
   "metadata": {
    "collapsed": false
   },
   "outputs": [
    {
     "data": {
      "image/png": "[encoded data removed]",
      "text/plain": [
       "<matplotlib.figure.Figure at 0x7fb0bc3a0898>"
      ]
     },
     "metadata": {},
     "output_type": "display_data"
    }
   ],
   "source": [
    "k, g = np.meshgrid(kappa, gamma)\n",
    "\n",
    "fig, (ax1) = plt.subplots(nrows=1, ncols=1, sharex=True, sharey=False, figsize=(15,4))\n",
    "heatmap = ax1.pcolor(k, g, means, vmin=0.15, vmax=.45)\n",
    "ax1.set_title('(a)')\n",
    "cax = fig.add_axes([0.92, 0.1, 0.02, 0.8])\n",
    "cbar = fig.colorbar(heatmap, cax=cax)\n",
    "cbar.set_label('mean fscore',fontsize=14)\n",
    "#ax1.set_yticklabels([0,5,10,15,20],fontsize=14)\n",
    "plt.show()"
   ]
  },
  {
   "cell_type": "code",
   "execution_count": null,
   "metadata": {
    "collapsed": true
   },
   "outputs": [],
   "source": [
    "fig, (ax1, ax2, ax3, ax4) = plt.subplots(nrows=1, ncols=4, sharex=True, sharey=False, figsize=(15,4))\n",
    "\n",
    "snoise = [0,5,10,15,20]\n",
    "vnoise = [0,5,10,15,20]\n",
    "snoise, vnoise = np.meshgrid(snoise, vnoise)\n",
    "\n",
    "meanFscore = [[mean_vnoise0_snoise0,mean_vnoise0_snoise5,mean_vnoise0_snoise10,mean_vnoise0_snoise15,mean_vnoise0_snoise20],\n",
    "              [mean_vnoise5_snoise0,mean_vnoise5_snoise5,mean_vnoise5_snoise10,mean_vnoise5_snoise15,mean_vnoise5_snoise20],\n",
    "              [mean_vnoise10_snoise0,mean_vnoise10_snoise5,mean_vnoise10_snoise10,mean_vnoise10_snoise15,mean_vnoise10_snoise20],\n",
    "              [mean_vnoise15_snoise0,mean_vnoise15_snoise5,mean_vnoise15_snoise10,mean_vnoise15_snoise15,mean_vnoise15_snoise20],\n",
    "              [mean_vnoise20_snoise0,mean_vnoise20_snoise5,mean_vnoise20_snoise10,mean_vnoise20_snoise15,mean_vnoise20_snoise20]\n",
    "             ]\n",
    "assoc_meanFscore = [[assoc_mean_vnoise0_snoise0,assoc_mean_vnoise0_snoise5,assoc_mean_vnoise0_snoise10,assoc_mean_vnoise0_snoise15,assoc_mean_vnoise0_snoise20],\n",
    "              [assoc_mean_vnoise5_snoise0,assoc_mean_vnoise5_snoise5,assoc_mean_vnoise5_snoise10,assoc_mean_vnoise5_snoise15,assoc_mean_vnoise5_snoise20],\n",
    "              [assoc_mean_vnoise10_snoise0,assoc_mean_vnoise10_snoise5,assoc_mean_vnoise10_snoise10,assoc_mean_vnoise10_snoise15,assoc_mean_vnoise10_snoise20],\n",
    "              [assoc_mean_vnoise15_snoise0,assoc_mean_vnoise15_snoise5,assoc_mean_vnoise15_snoise10,assoc_mean_vnoise15_snoise15,assoc_mean_vnoise15_snoise20],\n",
    "              [assoc_mean_vnoise20_snoise0,assoc_mean_vnoise20_snoise5,assoc_mean_vnoise20_snoise10,assoc_mean_vnoise20_snoise15,assoc_mean_vnoise20_snoise20]\n",
    "             ]\n",
    "\n",
    "condWD_meanFscore = [[condWD_mean_vnoise0_snoise0,condWD_mean_vnoise0_snoise5,condWD_mean_vnoise0_snoise10,condWD_mean_vnoise0_snoise15,condWD_mean_vnoise0_snoise20],\n",
    "              [condWD_mean_vnoise5_snoise0,condWD_mean_vnoise5_snoise5,condWD_mean_vnoise5_snoise10,condWD_mean_vnoise5_snoise15,condWD_mean_vnoise5_snoise20],\n",
    "              [condWD_mean_vnoise10_snoise0,condWD_mean_vnoise10_snoise5,condWD_mean_vnoise10_snoise10,condWD_mean_vnoise10_snoise15,condWD_mean_vnoise10_snoise20],\n",
    "              [condWD_mean_vnoise15_snoise0,condWD_mean_vnoise15_snoise5,condWD_mean_vnoise15_snoise10,condWD_mean_vnoise15_snoise15,condWD_mean_vnoise15_snoise20],\n",
    "              [condWD_mean_vnoise20_snoise0,condWD_mean_vnoise20_snoise5,condWD_mean_vnoise20_snoise10,condWD_mean_vnoise20_snoise15,condWD_mean_vnoise20_snoise20]\n",
    "             ]\n",
    "\n",
    "condOBJ_meanFscore = [[condOBJ_mean_vnoise0_snoise0,condOBJ_mean_vnoise0_snoise5,condOBJ_mean_vnoise0_snoise10,condOBJ_mean_vnoise0_snoise15,condOBJ_mean_vnoise0_snoise20],\n",
    "              [condOBJ_mean_vnoise5_snoise0,condOBJ_mean_vnoise5_snoise5,condOBJ_mean_vnoise5_snoise10,condOBJ_mean_vnoise5_snoise15,condOBJ_mean_vnoise5_snoise20],\n",
    "              [condOBJ_mean_vnoise10_snoise0,condOBJ_mean_vnoise10_snoise5,condOBJ_mean_vnoise10_snoise10,condOBJ_mean_vnoise10_snoise15,condOBJ_mean_vnoise10_snoise20],\n",
    "              [condOBJ_mean_vnoise15_snoise0,condOBJ_mean_vnoise15_snoise5,condOBJ_mean_vnoise15_snoise10,condOBJ_mean_vnoise15_snoise15,condOBJ_mean_vnoise15_snoise20],\n",
    "              [condOBJ_mean_vnoise20_snoise0,condOBJ_mean_vnoise20_snoise5,condOBJ_mean_vnoise20_snoise10,condOBJ_mean_vnoise20_snoise15,condOBJ_mean_vnoise20_snoise20]\n",
    "             ]\n",
    "\n",
    "meanFscore = np.array(meanFscore)\n",
    "assoc_meanFscore = np.array(assoc_meanFscore)\n",
    "condWD_meanFscore = np.array(condWD_meanFscore)\n",
    "condOBJ_meanFscore = np.array(condOBJ_meanFscore)\n",
    "\n",
    "data = [meanFscore,assoc_meanFscore,condWD_meanFscore,condOBJ_meanFscore]\n",
    "\n",
    "\n",
    "heatmap = ax1.pcolor(snoise, vnoise, meanFscore, vmin=0, vmax=1)\n",
    "ax1.set_title('(a)')\n",
    "assoc_heatmap = ax2.pcolor(snoise, vnoise,assoc_meanFscore, vmin=0, vmax=1)\n",
    "ax2.set_title('(b)')\n",
    "condWD_heatmap = ax3.pcolor(snoise, vnoise,condWD_meanFscore, vmin=0, vmax=1)\n",
    "ax3.set_title('(c)')\n",
    "condOBJ_heatmap = ax4.pcolor(snoise, vnoise,condOBJ_meanFscore, vmin=0, vmax=1)\n",
    "ax4.set_title('(d)')\n",
    "\n",
    "\n",
    "#cbar = fig.colorbar(heatmap)\n",
    "cax = fig.add_axes([0.92, 0.1, 0.02, 0.8])\n",
    "cbar = fig.colorbar(heatmap, cax=cax)\n",
    "cbar.set_label('mean fscore',fontsize=14)\n",
    "ax1.set_yticklabels([0,5,10,15,20],fontsize=14)\n",
    "ax1.set_xticklabels([0,5,10,15,20],fontsize=14)\n",
    "ax2.set_yticklabels([0,5,10,15,20],fontsize=14)\n",
    "ax2.set_xticklabels([0,5,10,15,20],fontsize=14)\n",
    "ax3.set_yticklabels([0,5,10,15,20],fontsize=14)\n",
    "ax3.set_xticklabels([0,5,10,15,20],fontsize=14)\n",
    "ax4.set_yticklabels([0,5,10,15,20],fontsize=14)\n",
    "ax4.set_xticklabels([0,5,10,15,20],fontsize=14)\n",
    "#ax3.set_xlabel(\"noise in speech recognition in percentage\")\n",
    "#ax1.set_ylabel(\"percentage of noise in vision\")\n",
    "fig.text(0.5, -0.02, 'percentage of noise in speech recognition', ha='center', fontsize=16)\n",
    "fig.text(0.08, 0.5, 'percentage of noise in vision', va='center', rotation='vertical', fontsize=16)\n",
    "\n",
    "for item in ([ax3.xaxis.label, ax1.yaxis.label, ax1.title, ax2.title, ax3.title, ax4.title]):\n",
    "    item.set_fontsize(16)\n",
    "\n",
    "fig.savefig('fscore-heatmap-all.png', dpi=100, bbox_inches='tight')\n",
    "\n",
    "plt.show() #boom"
   ]
  }
 ],
 "metadata": {
  "anaconda-cloud": {},
  "kernelspec": {
   "display_name": "Python [Root]",
   "language": "python",
   "name": "Python [Root]"
  },
  "language_info": {
   "codemirror_mode": {
    "name": "ipython",
    "version": 3
   },
   "file_extension": ".py",
   "mimetype": "text/x-python",
   "name": "python",
   "nbconvert_exporter": "python",
   "pygments_lexer": "ipython3",
   "version": "3.5.2"
  }
 },
 "nbformat": 4,
 "nbformat_minor": 1
}
